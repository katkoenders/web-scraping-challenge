{
 "cells": [
  {
   "cell_type": "code",
   "execution_count": 1,
   "metadata": {},
   "outputs": [],
   "source": [
    "from splinter import Browser\n",
    "from bs4 import BeautifulSoup as bs\n",
    "import time\n",
    "import requests\n",
    "import pandas as pd\n",
    "#def init_browser():\n",
    "    # @NOTE: Replace the path with your actual path to the chromedriver\n",
    "executable_path = {'executable_path': 'C:/bin/chromedriver'}\n",
    "browser = Browser(\"chrome\", **executable_path, headless=False)\n",
    "\n"
   ]
  },
  {
   "cell_type": "code",
   "execution_count": 8,
   "metadata": {},
   "outputs": [
    {
     "data": {
      "text/plain": [
       "True"
      ]
     },
     "execution_count": 8,
     "metadata": {},
     "output_type": "execute_result"
    }
   ],
   "source": [
    "#browser = init_browser()\n",
    "mars_data = {}\n",
    "url = \"https://mars.nasa.gov/news/\"\n",
    "browser.visit(url)\n",
    "browser.is_element_present_by_css(\"ul.item_list li.slide\",wait_time = 1)"
   ]
  },
  {
   "cell_type": "code",
   "execution_count": null,
   "metadata": {},
   "outputs": [],
   "source": [
    "\n",
    "\n",
    "# Scrape page into Soup\n",
    "html = browser.html\n",
    "soup = bs(html, \"html.parser\")\n",
    "\n",
    "tag = soup.select_one(\"ul.item_list li.slide\")\n",
    "\n",
    "\n",
    "title = tag.find(\"div\",class_ = \"content_title\").get_text()\n",
    "print(title)\n",
    "\n",
    "paragraph = tag.find(\"div\",class_ = \"article_teaser_body\").get_text()\n",
    "print(paragraph)\n",
    "article = {\n",
    "    \"title\":title,\n",
    "    \"paragraph\":paragraph\n",
    "}\n",
    "mars_data[\"news\"] = article \n",
    "\n",
    "url = \"https://www.jpl.nasa.gov/spaceimages/?search=&category=Mars\"\n",
    "browser.visit(url)\n",
    "\n",
    "full_image = browser.find_by_id(\"full_image\")\n",
    "full_image.click()\n",
    "\n",
    "browser.is_element_present_by_text(\"more info\",wait_time = 1)\n",
    "tag_2 = browser.find_link_by_partial_text(\"more info\")\n",
    "tag_2.click()\n",
    "\n",
    "html = browser.html\n",
    "soup = bs(html, \"html.parser\")\n",
    "\n",
    "image = soup.select_one(\"figure.lede a img\").get(\"src\")\n",
    "print(image)\n",
    "\n",
    "img_url = \"https://www.jpl.nasa.gov\"+image\n",
    "img_url\n",
    "mars_data[\"image\"] = img_url\n",
    "\n",
    "\n",
    "url = \"https://twitter.com/marswxreport?lang=en\"\n",
    "response = requests.get(url)\n",
    "soup = bs(response.text, \"html.parser\")\n",
    "tweet_containers = soup.find_all(\"div\", class_=\"js-tweet-text-container\")\n",
    "mars_weather = tweet_containers[0].text\n",
    "print(mars_weather)\n",
    "#I had trouble reading these values using BeautifulSoup and it looks like Twitter may have updated its site. \n",
    "#So I worked with Dominic LaBella to come up with a workaround\n",
    "mars_data[\"weather\"] = mars_weather\n",
    "\n",
    "\n",
    "table = pd.read_html(\"https://space-facts.com/mars/\")[0]\n",
    "table.columns = [\"desc\",\"data\"]\n",
    "table = table.set_index(\"desc\")\n",
    "table = table.to_html()\n",
    "mars_data[\"table\"] = table\n",
    "\n",
    "\n",
    "\n",
    "url = \"https://astrogeology.usgs.gov/search/results?q=hemisphere+enhanced&k1=target&v1=Mars\"\n",
    "browser.visit(url)\n",
    "\n",
    "img_titles = []\n",
    "links = browser.find_by_css(\"a.product-item h3\")\n",
    "for i in range(len(links)):\n",
    "    images = {}\n",
    "    browser.find_by_css(\"a.product-item h3\")[i].click()\n",
    "    element = browser.find_link_by_text(\"Sample\").first\n",
    "    images[\"image_url\"] = element[\"href\"]\n",
    "    images[\"title\"] = browser.find_by_css(\"h2.title\").text\n",
    "    img_titles.append(images)\n",
    "    print(img_titles)\n",
    "    browser.back()\n",
    "\n",
    "print(img_titles)\n",
    "\n",
    "mars_data[\"hemispheres\"] = img_titles\n",
    "\n"
   ]
  }
 ],
 "metadata": {
  "kernelspec": {
   "display_name": "Python 3",
   "language": "python",
   "name": "python3"
  },
  "language_info": {
   "codemirror_mode": {
    "name": "ipython",
    "version": 3
   },
   "file_extension": ".py",
   "mimetype": "text/x-python",
   "name": "python",
   "nbconvert_exporter": "python",
   "pygments_lexer": "ipython3",
   "version": "3.7.4"
  }
 },
 "nbformat": 4,
 "nbformat_minor": 2
}
